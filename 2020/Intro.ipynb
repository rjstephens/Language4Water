{
 "cells": [
  {
   "cell_type": "markdown",
   "metadata": {},
   "source": [
    "# Language4Water - Beginner Python"
   ]
  },
  {
   "cell_type": "markdown",
   "metadata": {},
   "source": [
    "## What is Python\n",
    "Definition from [python.org](https://www.python.org/doc/essays/blurb/)\n",
    "> Python is an interpreted, object-oriented, high-level programming language with dynamic semantics. Its high-level built in data structures, combined with dynamic typing and dynamic binding, make it very attractive for Rapid Application Development, as well as for use as a scripting or glue language to connect existing components together. Python's simple, easy to learn syntax emphasizes readability and therefore reduces the cost of program maintenance. Python supports modules and packages, which encourages program modularity and code reuse. The Python interpreter and the extensive standard library are available in source or binary form without charge for all major platforms, and can be freely distributed. [...]\n",
    "\n",
    "In short:\n",
    "- It's a **swiss army knife** language (batteries included and a great ecosystem)\n",
    "- It's **simple** (dynamic, high level)\n",
    "- It's **readable** (almost pseudocode, clean syntax)\n",
    "- It's **free** and **open-source**\n",
    "- It's **hardware hobbyist friendly** (raspberry pi, MicroPython)\n",
    "\n",
    "![antigravity](https://imgs.xkcd.com/comics/python.png)[source](https://xkcd.com/353/)\n",
    "\n",
    "## Python Uses and Misuses:\n",
    "Here's a list of what Python is good for and what is not (stolen from [here](https://www.reddit.com/r/learnprogramming/comments/30hncn/what_python_used_for/))\n",
    "\n",
    "### Python Uses:\n",
    "- Scripting\n",
    "- Scientific and mathematical computing\n",
    "- Data Analysis: stock markets, etc\n",
    "- Big data (machine learning, data mining, etc...)\n",
    "- Education: the [most commonly](http://cacm.acm.org/blogs/blog-cacm/176450-python-is-now-the-most-popular-introductory-teaching-language-at-top-us-universities/fulltext) taught language in universities\n",
    "- Computer graphics: embedded as a scripting language into many popular 3rd party programs such as Processing, FreeCAD, 3ds Max, Blender, Cinema 4D, Maya, Gimp, Inkscape, etc.\n",
    "- System automation and administration\n",
    "- Security and penetration testing\n",
    "- Server Side Web development - eg. Youtube, Instagram, Dropbox\n",
    "- Mapping and geography: Python is commonly used by many GIS software packages\n",
    "\n",
    "### Python Misuses:\n",
    "- Writing operating systems: Python isn't low-level enough\n",
    "- Mobile: major players in mobile do not adopt Python, though there are people working very hard to bring Python to mobile (see [Kivy](https://kivy.org))\n",
    "- Highly Concurrent Code: current implementations of Python are unfortunately not so fantastic with concurrency (ability to use multiple cores), though there are people working to change that too.\n",
    "- High Execution Speed: pure Python is slower than other languages like C and Java, (though sometimes [it does not matter much](https://medium.com/@trungluongquang/why-python-is-popular-despite-being-super-slow-83a8320412a9) or there are ways around it).\n",
    "\n",
    "#### Once you learn the fundamentals of programming through a language like Python, picking up other programming languages will be far easier.\n",
    "\n",
    "### Companies using Python\n",
    "A non-comprehensive list of famous companies invested in Python ([source](https://www.quora.com/What-top-tier-companies-use-Python)):\n",
    "\n",
    "![](https://qph.fs.quoracdn.net/main-qimg-2409596879889773b1e39c2594bf0fc5) \n"
   ]
  },
  {
   "cell_type": "markdown",
   "metadata": {},
   "source": [
    "# The Python Package Index (PyPI) - Equivalent to a Python App Store\n",
    "One of the best parts of Python is the enormous number (213,861+) of packages available to download and implement into your project. These Packages are free and open source and many can be used in commercial software if required. The code of the packages can be inspected and modified for personal use or to publicly contribute back to the project.\n",
    "\n",
    "Many packages are the result of individuals working on a tool that they then make freely available. Other packages start life inside companies who then make it open source.\n",
    "\n",
    "### Notable Packages\n",
    "Pandas - Data Analysis Tool  \n",
    "Matplotlib - Graphing Tool  \n",
    "Django - Web development framework  \n",
    "pyTorch - Machine learning library  \n",
    "SciPy - Scientific computing library"
   ]
  },
  {
   "cell_type": "markdown",
   "metadata": {},
   "source": [
    "# How to get Python"
   ]
  },
  {
   "cell_type": "raw",
   "metadata": {},
   "source": [
    "Python can be downloaded from a variety of sources. The best method for beginners is to get Python from Anaconda.org." 
    "This comes with a wide variety of packages for use in data science as well as a way to manage all these packages. 
    "Other options include downloading Python from python.org and installing the required packages separately." 
    "For this course we will use the Anaconda installer provided."
   ]
  },
  {
   "cell_type": "markdown",
   "metadata": {},
   "source": [
    "# Useful Links\n",
    "www.python.org  \n",
    "https://www.anaconda.com/  \n",
    "https://www.kaggle.com/learn/python  \n",
    "https://stackoverflow.com/"
   ]
  },
  {
   "cell_type": "markdown",
   "metadata": {},
   "source": []
  }
 ],
 "metadata": {
  "kernelspec": {
   "display_name": "Python 3",
   "language": "python",
   "name": "python3"
  },
  "language_info": {
   "codemirror_mode": {
    "name": "ipython",
    "version": 3
   },
   "file_extension": ".py",
   "mimetype": "text/x-python",
   "name": "python",
   "nbconvert_exporter": "python",
   "pygments_lexer": "ipython3",
   "version": "3.7.3"
  }
 },
 "nbformat": 4,
 "nbformat_minor": 4
}
